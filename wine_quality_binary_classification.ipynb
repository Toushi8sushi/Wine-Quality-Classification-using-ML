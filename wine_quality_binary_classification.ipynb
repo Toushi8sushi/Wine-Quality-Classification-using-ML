{
 "cells": [
  {
   "cell_type": "code",
   "execution_count": 19,
   "id": "98563fd4",
   "metadata": {},
   "outputs": [],
   "source": [
    "import numpy as np\n",
    "import pandas as pd"
   ]
  },
  {
   "cell_type": "code",
   "execution_count": 20,
   "id": "71bf1e46",
   "metadata": {},
   "outputs": [],
   "source": [
    "red_wine_file_path=r'T:\\TOSHITH\\PROGRAMMING\\Wine-Quality-Classification-using-ML\\winequality-red.csv'\n",
    "white_wine_file_path=r'T:\\TOSHITH\\PROGRAMMING\\Wine-Quality-Classification-using-ML\\winequality-white.csv'\n",
    "red_wine_df=pd.read_csv(red_wine_file_path,sep=';')\n",
    "white_wine_df=pd.read_csv(white_wine_file_path,sep=';')"
   ]
  },
  {
   "cell_type": "code",
   "execution_count": 21,
   "id": "62bebfaf",
   "metadata": {},
   "outputs": [],
   "source": [
    "from sklearn.model_selection import train_test_split\n",
    "from sklearn.preprocessing import StandardScaler\n",
    "\n",
    "def return_train_and_test(balanced_df, split_ratio, red_wine_df):\n",
    "    # Make a copy to avoid modifying original\n",
    "    balanced_df = balanced_df.copy()\n",
    "\n",
    "    # Step 1: Create 'colour' column based on index origin\n",
    "    colour_column = balanced_df.apply(\n",
    "        lambda row: 0 if row.name in red_wine_df.index else 1, axis=1\n",
    "    )\n",
    "    balanced_df['colour'] = colour_column\n",
    "\n",
    "    # Step 2: Split into features and target\n",
    "    X = balanced_df.drop(columns=['quality'])\n",
    "    Y = balanced_df['quality']\n",
    "\n",
    "    # Step 3: Train-test split with stratification\n",
    "    X_train, X_test, Y_train, Y_test = train_test_split(\n",
    "        X, Y, test_size=split_ratio, random_state=42, stratify=Y\n",
    "    )\n",
    "\n",
    "    # Step 4: Identify columns to scale (exclude 'colour')\n",
    "    columns_to_scale = X_train.select_dtypes(include=['float64', 'int64']).columns\n",
    "    columns_to_scale = [col for col in columns_to_scale if col != 'colour']\n",
    "\n",
    "    # Step 5: Apply scaling\n",
    "    scaler = StandardScaler()\n",
    "    X_train_scaled = X_train.copy()\n",
    "    X_test_scaled = X_test.copy()\n",
    "\n",
    "    X_train_scaled[columns_to_scale] = scaler.fit_transform(X_train[columns_to_scale])\n",
    "    X_test_scaled[columns_to_scale] = scaler.transform(X_test[columns_to_scale])\n",
    "\n",
    "    return X_train_scaled, X_test_scaled, Y_train, Y_test"
   ]
  },
  {
   "cell_type": "markdown",
   "id": "ecc4d57a",
   "metadata": {},
   "source": [
    "### Removing outliers and doing under sampling "
   ]
  },
  {
   "cell_type": "code",
   "execution_count": null,
   "id": "41bf088c",
   "metadata": {},
   "outputs": [
    {
     "name": "stdout",
     "output_type": "stream",
     "text": [
      "quality\n",
      "5    681\n",
      "6    638\n",
      "7    199\n",
      "4     53\n",
      "8     18\n",
      "3     10\n",
      "Name: count, dtype: int64 quality\n",
      "6    2198\n",
      "5    1457\n",
      "7     880\n",
      "8     175\n",
      "4     163\n",
      "3      20\n",
      "9       5\n",
      "Name: count, dtype: int64\n"
     ]
    },
    {
     "data": {
      "text/plain": [
       "\"print(red_wine_df.shape,white_wine_df.shape)\\nprint(red_wine_df['quality'].value_counts(),white_wine_df['quality'].value_counts())\""
      ]
     },
     "execution_count": 4,
     "metadata": {},
     "output_type": "execute_result"
    }
   ],
   "source": [
    "print(red_wine_df['quality'].value_counts(),white_wine_df['quality'].value_counts())\n",
    "\n",
    "unwanted_qualities = [9,3,8] # why bother putting this record even \n",
    "\n",
    "# Filter out those rows from red and white wine data\n",
    "red_wine_df = red_wine_df[~red_wine_df['quality'].isin(unwanted_qualities)]\n",
    "white_wine_df = white_wine_df[~white_wine_df['quality'].isin(unwanted_qualities)]\n",
    "\n",
    "'''print(red_wine_df.shape,white_wine_df.shape)\n",
    "print(red_wine_df['quality'].value_counts(),white_wine_df['quality'].value_counts())'''\n"
   ]
  },
  {
   "cell_type": "code",
   "execution_count": null,
   "id": "3274af5b",
   "metadata": {},
   "outputs": [
    {
     "name": "stdout",
     "output_type": "stream",
     "text": [
      "Balanced Dataset Shape: (3142, 12)\n",
      "Quality distribution:\n",
      " quality\n",
      "4     106\n",
      "5    1362\n",
      "6    1276\n",
      "7     398\n",
      "Name: count, dtype: int64\n"
     ]
    }
   ],
   "source": [
    "# Get list of common quality levels\n",
    "common_qualities = sorted(set(red_wine_df['quality']) & set(white_wine_df['quality']))\n",
    "\n",
    "# Get min count per quality across both red & white wines\n",
    "min_counts = {}\n",
    "for q in common_qualities:\n",
    "    red_count = (red_wine_df['quality'] == q).sum()\n",
    "    white_count = (white_wine_df['quality'] == q).sum()\n",
    "    min_counts[q] = min(red_count, white_count)\n",
    "\n",
    "# Sample equal records per quality from each dataset\n",
    "balanced_red = []\n",
    "balanced_white = []\n",
    "\n",
    "for q in common_qualities:\n",
    "    red_sample = red_wine_df[red_wine_df['quality'] == q].sample(n=min_counts[q], random_state=42)\n",
    "    white_sample = white_wine_df[white_wine_df['quality'] == q].sample(n=min_counts[q], random_state=42)\n",
    "    \n",
    "    balanced_red.append(red_sample)\n",
    "    balanced_white.append(white_sample)\n",
    "\n",
    "# Concatenate all samples\n",
    "method_1 = pd.concat(balanced_red + balanced_white, ignore_index=True)\n",
    "\n",
    "print(\"Balanced Dataset Shape:\", method_1.shape)\n",
    "print(\"Quality distribution:\\n\", method_1['quality'].value_counts().sort_index())"
   ]
  },
  {
   "cell_type": "code",
   "execution_count": null,
   "id": "907d18cf",
   "metadata": {},
   "outputs": [
    {
     "name": "stdout",
     "output_type": "stream",
     "text": [
      "Final balanced dataset shape: (424, 13)\n",
      "Per-quality count:\n",
      " quality\n",
      "4    106\n",
      "5    106\n",
      "6    106\n",
      "7    106\n",
      "Name: count, dtype: int64\n"
     ]
    }
   ],
   "source": [
    "# Get list of common quality levels\n",
    "common_qualities = sorted(set(red_wine_df['quality']) & set(white_wine_df['quality']))\n",
    "\n",
    "# Determine the minimum number of samples available for each quality (across red and white separately)\n",
    "min_per_quality = {}\n",
    "for q in common_qualities:\n",
    "    red_q = red_wine_df[red_wine_df['quality'] == q]\n",
    "    white_q = white_wine_df[white_wine_df['quality'] == q]\n",
    "    min_per_quality[q] = min(len(red_q), len(white_q))\n",
    "\n",
    "# Find the smallest of these to ensure equal count for every quality\n",
    "global_min = min(min_per_quality.values())\n",
    "\n",
    "# Sample exactly global_min from red and white for each quality\n",
    "balanced_samples = []\n",
    "\n",
    "for q in common_qualities:\n",
    "    red_sample = red_wine_df[red_wine_df['quality'] == q].sample(n=global_min, random_state=42)\n",
    "    white_sample = white_wine_df[white_wine_df['quality'] == q].sample(n=global_min, random_state=42)\n",
    "    \n",
    "    red_sample['colour'] = 0\n",
    "    white_sample['colour'] = 1\n",
    "    \n",
    "    balanced_samples.extend([red_sample, white_sample])\n",
    "\n",
    "# Combine all into one master balanced dataset\n",
    "method_2 = pd.concat(balanced_samples, ignore_index=True)\n",
    "\n",
    "print(\"Final balanced dataset shape:\", method_2.shape)\n",
    "print(\"Per-quality count:\\n\", method_2['quality'].value_counts().sort_index())"
   ]
  },
  {
   "cell_type": "markdown",
   "id": "cc94aa98",
   "metadata": {},
   "source": [
    "### data set for binary classification "
   ]
  },
  {
   "cell_type": "code",
   "execution_count": null,
   "id": "68b9ea81",
   "metadata": {},
   "outputs": [
    {
     "name": "stdout",
     "output_type": "stream",
     "text": [
      "N_balanced_df shape: (6497, 13)\n",
      "D_balanced_df shape: (3198, 13)\n",
      "\n",
      "N_balanced_df quality value counts:\n",
      " quality\n",
      "1    4113\n",
      "0    2384\n",
      "Name: count, dtype: int64\n",
      "\n",
      "D_balanced_df wine type value counts:\n",
      " colour\n",
      "0    1599\n",
      "1    1599\n",
      "Name: count, dtype: int64\n"
     ]
    }
   ],
   "source": [
    "# Step 1: Encode quality as binary\n",
    "def label_quality(q):\n",
    "    return 1 if q >= 6 else 0  # 1 = good, 0 = bad\n",
    "\n",
    "red_wine_df['quality'] = red_wine_df['quality'].apply(label_quality)\n",
    "white_wine_df['quality'] = white_wine_df['quality'].apply(label_quality)\n",
    "\n",
    "# Step 2: Add colour column\n",
    "red_wine_df['colour'] = 0  # red = 0\n",
    "white_wine_df['colour'] = 1  # white = 1\n",
    "\n",
    "# Step 3: Create N_balanced_df (just combined)\n",
    "method_3 = pd.concat([red_wine_df, white_wine_df], ignore_index=True)\n",
    "\n",
    "# Step 4: Create D_balanced_df (equal number of red and white samples)\n",
    "min_len = min(len(red_wine_df), len(white_wine_df))\n",
    "\n",
    "red_downsampled = red_wine_df.sample(n=min_len, random_state=42)\n",
    "white_downsampled = white_wine_df.sample(n=min_len, random_state=42)\n",
    "\n",
    "method_4 = pd.concat([red_downsampled, white_downsampled], ignore_index=True)\n",
    "\n",
    "# ✅ Optional: Check dataset shapes and distribution\n",
    "print(\"N_balanced_df shape:\", method_3.shape)\n",
    "print(\"D_balanced_df shape:\", method_4.shape)\n",
    "print(\"\\nN_balanced_df quality value counts:\\n\", method_3['quality'].value_counts())\n",
    "print(\"\\nD_balanced_df wine type value counts:\\n\", method_4['colour'].value_counts())"
   ]
  },
  {
   "cell_type": "markdown",
   "id": "21eeed44",
   "metadata": {},
   "source": [
    "Run the cell according to the method of sampling you wish to do "
   ]
  },
  {
   "cell_type": "markdown",
   "id": "092d1689",
   "metadata": {},
   "source": [
    "Method 1"
   ]
  },
  {
   "cell_type": "code",
   "execution_count": null,
   "id": "592ffc1c",
   "metadata": {},
   "outputs": [],
   "source": [
    "SPLIT_RATIO=0.3 #FOR 70:30 TRAIN TEST SPLIT\n",
    "X_train, X_test, Y_train, Y_test = return_train_and_test(method_1,SPLIT_RATIO,red_wine_df)"
   ]
  },
  {
   "cell_type": "markdown",
   "id": "b35d435d",
   "metadata": {},
   "source": [
    "Method 2"
   ]
  },
  {
   "cell_type": "code",
   "execution_count": null,
   "id": "a5d90366",
   "metadata": {},
   "outputs": [],
   "source": [
    "SPLIT_RATIO=0.3 #FOR 70:30 TRAIN TEST SPLIT\n",
    "X_train, X_test, Y_train, Y_test = return_train_and_test(method_2,SPLIT_RATIO,red_wine_df)"
   ]
  },
  {
   "cell_type": "markdown",
   "id": "852378ac",
   "metadata": {},
   "source": [
    "Method 3"
   ]
  },
  {
   "cell_type": "code",
   "execution_count": null,
   "id": "22ea9b3b",
   "metadata": {},
   "outputs": [],
   "source": [
    "SPLIT_RATIO=0.3 #FOR 70:30 TRAIN TEST SPLIT\n",
    "X_train, X_test, Y_train, Y_test = return_train_and_test(method_3,SPLIT_RATIO,red_wine_df)"
   ]
  },
  {
   "cell_type": "markdown",
   "id": "10e4e7fc",
   "metadata": {},
   "source": [
    "Method 4"
   ]
  },
  {
   "cell_type": "code",
   "execution_count": null,
   "id": "13376e0c",
   "metadata": {},
   "outputs": [],
   "source": [
    "SPLIT_RATIO=0.3 #FOR 70:30 TRAIN TEST SPLIT\n",
    "X_train, X_test, Y_train, Y_test = return_train_and_test(method_4,SPLIT_RATIO,red_wine_df)"
   ]
  },
  {
   "cell_type": "markdown",
   "id": "9ebd5a23",
   "metadata": {},
   "source": [
    "### ANN for classification"
   ]
  },
  {
   "cell_type": "code",
   "execution_count": 34,
   "id": "c437dad2",
   "metadata": {},
   "outputs": [],
   "source": [
    "from tensorflow.keras.utils import to_categorical\n",
    "from tensorflow.keras.models import Sequential\n",
    "from tensorflow.keras.layers import Dense, Dropout, BatchNormalization\n",
    "from tensorflow.keras.callbacks import EarlyStopping\n",
    "from tensorflow.keras.optimizers import Adam\n",
    "from sklearn.metrics import classification_report"
   ]
  },
  {
   "cell_type": "code",
   "execution_count": 35,
   "id": "051d9f60",
   "metadata": {},
   "outputs": [
    {
     "name": "stdout",
     "output_type": "stream",
     "text": [
      "Epoch 1/300\n"
     ]
    },
    {
     "name": "stderr",
     "output_type": "stream",
     "text": [
      "c:\\Users\\toshi\\AppData\\Local\\Programs\\Python\\Python312\\Lib\\site-packages\\keras\\src\\layers\\core\\dense.py:87: UserWarning: Do not pass an `input_shape`/`input_dim` argument to a layer. When using Sequential models, prefer using an `Input(shape)` object as the first layer in the model instead.\n",
      "  super().__init__(activity_regularizer=activity_regularizer, **kwargs)\n"
     ]
    },
    {
     "name": "stdout",
     "output_type": "stream",
     "text": [
      "\u001b[1m70/70\u001b[0m \u001b[32m━━━━━━━━━━━━━━━━━━━━\u001b[0m\u001b[37m\u001b[0m \u001b[1m2s\u001b[0m 3ms/step - accuracy: 0.5539 - loss: 0.9153 - val_accuracy: 0.7146 - val_loss: 0.5996\n",
      "Epoch 2/300\n",
      "\u001b[1m70/70\u001b[0m \u001b[32m━━━━━━━━━━━━━━━━━━━━\u001b[0m\u001b[37m\u001b[0m \u001b[1m0s\u001b[0m 1ms/step - accuracy: 0.6387 - loss: 0.6711 - val_accuracy: 0.7156 - val_loss: 0.5753\n",
      "Epoch 3/300\n",
      "\u001b[1m70/70\u001b[0m \u001b[32m━━━━━━━━━━━━━━━━━━━━\u001b[0m\u001b[37m\u001b[0m \u001b[1m0s\u001b[0m 1ms/step - accuracy: 0.6879 - loss: 0.6132 - val_accuracy: 0.7125 - val_loss: 0.5538\n",
      "Epoch 4/300\n",
      "\u001b[1m70/70\u001b[0m \u001b[32m━━━━━━━━━━━━━━━━━━━━\u001b[0m\u001b[37m\u001b[0m \u001b[1m0s\u001b[0m 1ms/step - accuracy: 0.7134 - loss: 0.5506 - val_accuracy: 0.7323 - val_loss: 0.5397\n",
      "Epoch 5/300\n",
      "\u001b[1m70/70\u001b[0m \u001b[32m━━━━━━━━━━━━━━━━━━━━\u001b[0m\u001b[37m\u001b[0m \u001b[1m0s\u001b[0m 2ms/step - accuracy: 0.7344 - loss: 0.5592 - val_accuracy: 0.7469 - val_loss: 0.5231\n",
      "Epoch 6/300\n",
      "\u001b[1m70/70\u001b[0m \u001b[32m━━━━━━━━━━━━━━━━━━━━\u001b[0m\u001b[37m\u001b[0m \u001b[1m0s\u001b[0m 1ms/step - accuracy: 0.7012 - loss: 0.5610 - val_accuracy: 0.7573 - val_loss: 0.5141\n",
      "Epoch 7/300\n",
      "\u001b[1m70/70\u001b[0m \u001b[32m━━━━━━━━━━━━━━━━━━━━\u001b[0m\u001b[37m\u001b[0m \u001b[1m0s\u001b[0m 1ms/step - accuracy: 0.7281 - loss: 0.5411 - val_accuracy: 0.7552 - val_loss: 0.5128\n",
      "Epoch 8/300\n",
      "\u001b[1m70/70\u001b[0m \u001b[32m━━━━━━━━━━━━━━━━━━━━\u001b[0m\u001b[37m\u001b[0m \u001b[1m0s\u001b[0m 1ms/step - accuracy: 0.7281 - loss: 0.5386 - val_accuracy: 0.7625 - val_loss: 0.5101\n",
      "Epoch 9/300\n",
      "\u001b[1m70/70\u001b[0m \u001b[32m━━━━━━━━━━━━━━━━━━━━\u001b[0m\u001b[37m\u001b[0m \u001b[1m0s\u001b[0m 1ms/step - accuracy: 0.7395 - loss: 0.5252 - val_accuracy: 0.7500 - val_loss: 0.5139\n",
      "Epoch 10/300\n",
      "\u001b[1m70/70\u001b[0m \u001b[32m━━━━━━━━━━━━━━━━━━━━\u001b[0m\u001b[37m\u001b[0m \u001b[1m0s\u001b[0m 1ms/step - accuracy: 0.7495 - loss: 0.5113 - val_accuracy: 0.7521 - val_loss: 0.5107\n",
      "Epoch 11/300\n",
      "\u001b[1m70/70\u001b[0m \u001b[32m━━━━━━━━━━━━━━━━━━━━\u001b[0m\u001b[37m\u001b[0m \u001b[1m0s\u001b[0m 1ms/step - accuracy: 0.7466 - loss: 0.5240 - val_accuracy: 0.7594 - val_loss: 0.5126\n",
      "Epoch 12/300\n",
      "\u001b[1m70/70\u001b[0m \u001b[32m━━━━━━━━━━━━━━━━━━━━\u001b[0m\u001b[37m\u001b[0m \u001b[1m0s\u001b[0m 1ms/step - accuracy: 0.7308 - loss: 0.5319 - val_accuracy: 0.7521 - val_loss: 0.5119\n",
      "Epoch 13/300\n",
      "\u001b[1m70/70\u001b[0m \u001b[32m━━━━━━━━━━━━━━━━━━━━\u001b[0m\u001b[37m\u001b[0m \u001b[1m0s\u001b[0m 1ms/step - accuracy: 0.7300 - loss: 0.5202 - val_accuracy: 0.7490 - val_loss: 0.5144\n",
      "Epoch 14/300\n",
      "\u001b[1m70/70\u001b[0m \u001b[32m━━━━━━━━━━━━━━━━━━━━\u001b[0m\u001b[37m\u001b[0m \u001b[1m0s\u001b[0m 1ms/step - accuracy: 0.7324 - loss: 0.5382 - val_accuracy: 0.7552 - val_loss: 0.5107\n",
      "Epoch 15/300\n",
      "\u001b[1m70/70\u001b[0m \u001b[32m━━━━━━━━━━━━━━━━━━━━\u001b[0m\u001b[37m\u001b[0m \u001b[1m0s\u001b[0m 1ms/step - accuracy: 0.7534 - loss: 0.5031 - val_accuracy: 0.7563 - val_loss: 0.5079\n",
      "Epoch 16/300\n",
      "\u001b[1m70/70\u001b[0m \u001b[32m━━━━━━━━━━━━━━━━━━━━\u001b[0m\u001b[37m\u001b[0m \u001b[1m0s\u001b[0m 1ms/step - accuracy: 0.7655 - loss: 0.5042 - val_accuracy: 0.7552 - val_loss: 0.5117\n",
      "Epoch 17/300\n",
      "\u001b[1m70/70\u001b[0m \u001b[32m━━━━━━━━━━━━━━━━━━━━\u001b[0m\u001b[37m\u001b[0m \u001b[1m0s\u001b[0m 1ms/step - accuracy: 0.7549 - loss: 0.5053 - val_accuracy: 0.7510 - val_loss: 0.5119\n",
      "Epoch 18/300\n",
      "\u001b[1m70/70\u001b[0m \u001b[32m━━━━━━━━━━━━━━━━━━━━\u001b[0m\u001b[37m\u001b[0m \u001b[1m0s\u001b[0m 1ms/step - accuracy: 0.7520 - loss: 0.4937 - val_accuracy: 0.7563 - val_loss: 0.5130\n",
      "Epoch 19/300\n",
      "\u001b[1m70/70\u001b[0m \u001b[32m━━━━━━━━━━━━━━━━━━━━\u001b[0m\u001b[37m\u001b[0m \u001b[1m0s\u001b[0m 1ms/step - accuracy: 0.7558 - loss: 0.4960 - val_accuracy: 0.7542 - val_loss: 0.5172\n",
      "Epoch 20/300\n",
      "\u001b[1m70/70\u001b[0m \u001b[32m━━━━━━━━━━━━━━━━━━━━\u001b[0m\u001b[37m\u001b[0m \u001b[1m0s\u001b[0m 2ms/step - accuracy: 0.7621 - loss: 0.4994 - val_accuracy: 0.7552 - val_loss: 0.5115\n",
      "Epoch 21/300\n",
      "\u001b[1m70/70\u001b[0m \u001b[32m━━━━━━━━━━━━━━━━━━━━\u001b[0m\u001b[37m\u001b[0m \u001b[1m0s\u001b[0m 1ms/step - accuracy: 0.7835 - loss: 0.4753 - val_accuracy: 0.7521 - val_loss: 0.5106\n",
      "Epoch 22/300\n",
      "\u001b[1m70/70\u001b[0m \u001b[32m━━━━━━━━━━━━━━━━━━━━\u001b[0m\u001b[37m\u001b[0m \u001b[1m0s\u001b[0m 1ms/step - accuracy: 0.7671 - loss: 0.4862 - val_accuracy: 0.7625 - val_loss: 0.5108\n",
      "Epoch 23/300\n",
      "\u001b[1m70/70\u001b[0m \u001b[32m━━━━━━━━━━━━━━━━━━━━\u001b[0m\u001b[37m\u001b[0m \u001b[1m0s\u001b[0m 1ms/step - accuracy: 0.7531 - loss: 0.4970 - val_accuracy: 0.7521 - val_loss: 0.5089\n",
      "Epoch 24/300\n",
      "\u001b[1m70/70\u001b[0m \u001b[32m━━━━━━━━━━━━━━━━━━━━\u001b[0m\u001b[37m\u001b[0m \u001b[1m0s\u001b[0m 1ms/step - accuracy: 0.7742 - loss: 0.4749 - val_accuracy: 0.7437 - val_loss: 0.5077\n",
      "Epoch 25/300\n",
      "\u001b[1m70/70\u001b[0m \u001b[32m━━━━━━━━━━━━━━━━━━━━\u001b[0m\u001b[37m\u001b[0m \u001b[1m0s\u001b[0m 2ms/step - accuracy: 0.7763 - loss: 0.4889 - val_accuracy: 0.7490 - val_loss: 0.5091\n",
      "Epoch 26/300\n",
      "\u001b[1m70/70\u001b[0m \u001b[32m━━━━━━━━━━━━━━━━━━━━\u001b[0m\u001b[37m\u001b[0m \u001b[1m0s\u001b[0m 2ms/step - accuracy: 0.7475 - loss: 0.5094 - val_accuracy: 0.7542 - val_loss: 0.5064\n",
      "Epoch 27/300\n",
      "\u001b[1m70/70\u001b[0m \u001b[32m━━━━━━━━━━━━━━━━━━━━\u001b[0m\u001b[37m\u001b[0m \u001b[1m0s\u001b[0m 1ms/step - accuracy: 0.7514 - loss: 0.4978 - val_accuracy: 0.7563 - val_loss: 0.5043\n",
      "Epoch 28/300\n",
      "\u001b[1m70/70\u001b[0m \u001b[32m━━━━━━━━━━━━━━━━━━━━\u001b[0m\u001b[37m\u001b[0m \u001b[1m0s\u001b[0m 1ms/step - accuracy: 0.7541 - loss: 0.4990 - val_accuracy: 0.7583 - val_loss: 0.5045\n",
      "Epoch 29/300\n",
      "\u001b[1m70/70\u001b[0m \u001b[32m━━━━━━━━━━━━━━━━━━━━\u001b[0m\u001b[37m\u001b[0m \u001b[1m0s\u001b[0m 1ms/step - accuracy: 0.7463 - loss: 0.5029 - val_accuracy: 0.7573 - val_loss: 0.5032\n",
      "Epoch 30/300\n",
      "\u001b[1m70/70\u001b[0m \u001b[32m━━━━━━━━━━━━━━━━━━━━\u001b[0m\u001b[37m\u001b[0m \u001b[1m0s\u001b[0m 1ms/step - accuracy: 0.7729 - loss: 0.4734 - val_accuracy: 0.7490 - val_loss: 0.5066\n",
      "Epoch 31/300\n",
      "\u001b[1m70/70\u001b[0m \u001b[32m━━━━━━━━━━━━━━━━━━━━\u001b[0m\u001b[37m\u001b[0m \u001b[1m0s\u001b[0m 1ms/step - accuracy: 0.7653 - loss: 0.4784 - val_accuracy: 0.7531 - val_loss: 0.5029\n",
      "Epoch 32/300\n",
      "\u001b[1m70/70\u001b[0m \u001b[32m━━━━━━━━━━━━━━━━━━━━\u001b[0m\u001b[37m\u001b[0m \u001b[1m0s\u001b[0m 1ms/step - accuracy: 0.7849 - loss: 0.4742 - val_accuracy: 0.7594 - val_loss: 0.4987\n",
      "Epoch 33/300\n",
      "\u001b[1m70/70\u001b[0m \u001b[32m━━━━━━━━━━━━━━━━━━━━\u001b[0m\u001b[37m\u001b[0m \u001b[1m0s\u001b[0m 1ms/step - accuracy: 0.7850 - loss: 0.4692 - val_accuracy: 0.7542 - val_loss: 0.5071\n",
      "Epoch 34/300\n",
      "\u001b[1m70/70\u001b[0m \u001b[32m━━━━━━━━━━━━━━━━━━━━\u001b[0m\u001b[37m\u001b[0m \u001b[1m0s\u001b[0m 1ms/step - accuracy: 0.7617 - loss: 0.4767 - val_accuracy: 0.7552 - val_loss: 0.5082\n",
      "Epoch 35/300\n",
      "\u001b[1m70/70\u001b[0m \u001b[32m━━━━━━━━━━━━━━━━━━━━\u001b[0m\u001b[37m\u001b[0m \u001b[1m0s\u001b[0m 2ms/step - accuracy: 0.7570 - loss: 0.4913 - val_accuracy: 0.7552 - val_loss: 0.5140\n",
      "Epoch 36/300\n",
      "\u001b[1m70/70\u001b[0m \u001b[32m━━━━━━━━━━━━━━━━━━━━\u001b[0m\u001b[37m\u001b[0m \u001b[1m0s\u001b[0m 1ms/step - accuracy: 0.7761 - loss: 0.4884 - val_accuracy: 0.7542 - val_loss: 0.5107\n",
      "Epoch 37/300\n",
      "\u001b[1m70/70\u001b[0m \u001b[32m━━━━━━━━━━━━━━━━━━━━\u001b[0m\u001b[37m\u001b[0m \u001b[1m0s\u001b[0m 2ms/step - accuracy: 0.7491 - loss: 0.4852 - val_accuracy: 0.7573 - val_loss: 0.5072\n",
      "Epoch 38/300\n",
      "\u001b[1m70/70\u001b[0m \u001b[32m━━━━━━━━━━━━━━━━━━━━\u001b[0m\u001b[37m\u001b[0m \u001b[1m0s\u001b[0m 2ms/step - accuracy: 0.7653 - loss: 0.4878 - val_accuracy: 0.7510 - val_loss: 0.5051\n",
      "Epoch 39/300\n",
      "\u001b[1m70/70\u001b[0m \u001b[32m━━━━━━━━━━━━━━━━━━━━\u001b[0m\u001b[37m\u001b[0m \u001b[1m0s\u001b[0m 1ms/step - accuracy: 0.7699 - loss: 0.4608 - val_accuracy: 0.7542 - val_loss: 0.5097\n",
      "Epoch 40/300\n",
      "\u001b[1m70/70\u001b[0m \u001b[32m━━━━━━━━━━━━━━━━━━━━\u001b[0m\u001b[37m\u001b[0m \u001b[1m0s\u001b[0m 1ms/step - accuracy: 0.7852 - loss: 0.4724 - val_accuracy: 0.7500 - val_loss: 0.5080\n",
      "Epoch 41/300\n",
      "\u001b[1m70/70\u001b[0m \u001b[32m━━━━━━━━━━━━━━━━━━━━\u001b[0m\u001b[37m\u001b[0m \u001b[1m0s\u001b[0m 1ms/step - accuracy: 0.7594 - loss: 0.4875 - val_accuracy: 0.7573 - val_loss: 0.5094\n",
      "Epoch 42/300\n",
      "\u001b[1m70/70\u001b[0m \u001b[32m━━━━━━━━━━━━━━━━━━━━\u001b[0m\u001b[37m\u001b[0m \u001b[1m0s\u001b[0m 1ms/step - accuracy: 0.7728 - loss: 0.4692 - val_accuracy: 0.7479 - val_loss: 0.5089\n",
      "Epoch 43/300\n",
      "\u001b[1m70/70\u001b[0m \u001b[32m━━━━━━━━━━━━━━━━━━━━\u001b[0m\u001b[37m\u001b[0m \u001b[1m0s\u001b[0m 1ms/step - accuracy: 0.7583 - loss: 0.4927 - val_accuracy: 0.7490 - val_loss: 0.5068\n",
      "Epoch 44/300\n",
      "\u001b[1m70/70\u001b[0m \u001b[32m━━━━━━━━━━━━━━━━━━━━\u001b[0m\u001b[37m\u001b[0m \u001b[1m0s\u001b[0m 1ms/step - accuracy: 0.7771 - loss: 0.4580 - val_accuracy: 0.7542 - val_loss: 0.5139\n",
      "Epoch 45/300\n",
      "\u001b[1m70/70\u001b[0m \u001b[32m━━━━━━━━━━━━━━━━━━━━\u001b[0m\u001b[37m\u001b[0m \u001b[1m0s\u001b[0m 1ms/step - accuracy: 0.7832 - loss: 0.4528 - val_accuracy: 0.7563 - val_loss: 0.5032\n",
      "Epoch 46/300\n",
      "\u001b[1m70/70\u001b[0m \u001b[32m━━━━━━━━━━━━━━━━━━━━\u001b[0m\u001b[37m\u001b[0m \u001b[1m0s\u001b[0m 2ms/step - accuracy: 0.7776 - loss: 0.4546 - val_accuracy: 0.7552 - val_loss: 0.5046\n",
      "Epoch 47/300\n",
      "\u001b[1m70/70\u001b[0m \u001b[32m━━━━━━━━━━━━━━━━━━━━\u001b[0m\u001b[37m\u001b[0m \u001b[1m0s\u001b[0m 1ms/step - accuracy: 0.7814 - loss: 0.4670 - val_accuracy: 0.7531 - val_loss: 0.5079\n"
     ]
    }
   ],
   "source": [
    "# One-hot encode target labels\n",
    "Y_train_encoded = to_categorical(Y_train)\n",
    "Y_test_encoded = to_categorical(Y_test)\n",
    "\n",
    "# Define input shape\n",
    "input_dim = X_train.shape[1]\n",
    "num_classes = Y_train_encoded.shape[1]\n",
    "\n",
    "# Define early stopping\n",
    "early_stop = EarlyStopping(\n",
    "    monitor='val_loss',       # Stop when validation loss stops improving\n",
    "    patience=15,               # Allow 5 epochs of no improvement\n",
    "    restore_best_weights=True # Restore best model weights after stopping\n",
    ")\n",
    "\n",
    "# Build a deeper ANN with BatchNorm and Dropout\n",
    "model = Sequential([\n",
    "    Dense(128, activation='relu', input_shape=(input_dim,)),\n",
    "    BatchNormalization(),\n",
    "    Dropout(0.4),\n",
    "    \n",
    "    Dense(64, activation='relu'),\n",
    "    BatchNormalization(),\n",
    "    Dropout(0.3),\n",
    "    \n",
    "    Dense(32, activation='relu'),\n",
    "    Dropout(0.2),\n",
    "    \n",
    "    Dense(num_classes, activation='softmax')\n",
    "])\n",
    "\n",
    "# Compile model\n",
    "model.compile(optimizer=Adam(learning_rate=0.001),\n",
    "              loss='categorical_crossentropy',\n",
    "              metrics=['accuracy'])\n",
    "\n",
    "# Train with early stopping\n",
    "history = model.fit(X_train, Y_train_encoded,\n",
    "                    validation_data=(X_test, Y_test_encoded),\n",
    "                    epochs=300,\n",
    "                    batch_size=32,\n",
    "                    callbacks=[early_stop],\n",
    "                    verbose=1)"
   ]
  },
  {
   "cell_type": "code",
   "execution_count": 36,
   "id": "550e3246",
   "metadata": {},
   "outputs": [
    {
     "name": "stdout",
     "output_type": "stream",
     "text": [
      "\u001b[1m30/30\u001b[0m \u001b[32m━━━━━━━━━━━━━━━━━━━━\u001b[0m\u001b[37m\u001b[0m \u001b[1m0s\u001b[0m 239us/step - accuracy: 0.7670 - loss: 0.4859\n",
      "\n",
      "Test Accuracy: 0.7594\n",
      "\u001b[1m30/30\u001b[0m \u001b[32m━━━━━━━━━━━━━━━━━━━━\u001b[0m\u001b[37m\u001b[0m \u001b[1m0s\u001b[0m 753us/step\n",
      "              precision    recall  f1-score   support\n",
      "\n",
      "           0       0.71      0.65      0.68       378\n",
      "           1       0.78      0.83      0.81       582\n",
      "\n",
      "    accuracy                           0.76       960\n",
      "   macro avg       0.75      0.74      0.74       960\n",
      "weighted avg       0.76      0.76      0.76       960\n",
      "\n"
     ]
    }
   ],
   "source": [
    "loss, accuracy = model.evaluate(X_test, Y_test_encoded)\n",
    "print(f\"\\nTest Accuracy: {accuracy:.4f}\")\n",
    "\n",
    "# Predict class probabilities\n",
    "y_pred_probs = model.predict(X_test)\n",
    "y_pred_classes = np.argmax(y_pred_probs, axis=1)\n",
    "\n",
    "# Print classification report\n",
    "print(classification_report(Y_test, y_pred_classes))"
   ]
  },
  {
   "cell_type": "code",
   "execution_count": 37,
   "id": "98b99bac",
   "metadata": {},
   "outputs": [
    {
     "data": {
      "image/png": "[encoded data removed]",
      "text/plain": [
       "<Figure size 800x600 with 2 Axes>"
      ]
     },
     "metadata": {},
     "output_type": "display_data"
    }
   ],
   "source": [
    "from sklearn.metrics import confusion_matrix\n",
    "import seaborn as sns\n",
    "import matplotlib.pyplot as plt\n",
    "\n",
    "# Generate the confusion matrix\n",
    "cm = confusion_matrix(Y_test, y_pred_classes)\n",
    "\n",
    "# Get class labels\n",
    "class_labels = sorted(Y_test.unique()) if hasattr(Y_test, 'unique') else sorted(set(Y_test))\n",
    "\n",
    "# Plot it\n",
    "plt.figure(figsize=(8, 6))\n",
    "sns.heatmap(cm, annot=True, fmt='d', cmap='Blues',\n",
    "            xticklabels=class_labels, yticklabels=class_labels)\n",
    "\n",
    "plt.title('Confusion Matrix')\n",
    "plt.xlabel('Predicted Labels')\n",
    "plt.ylabel('True Labels')\n",
    "plt.tight_layout()\n",
    "plt.show()"
   ]
  },
  {
   "cell_type": "markdown",
   "id": "abd1d476",
   "metadata": {},
   "source": [
    "### Random Forest for classification"
   ]
  },
  {
   "cell_type": "code",
   "execution_count": 38,
   "id": "d39dd317",
   "metadata": {},
   "outputs": [
    {
     "name": "stdout",
     "output_type": "stream",
     "text": [
      "Fitting 5 folds for each of 50 candidates, totalling 250 fits\n",
      "\n",
      "Best Parameters: {'n_estimators': 500, 'min_samples_split': 5, 'min_samples_leaf': 2, 'max_features': 'sqrt', 'max_depth': 20, 'bootstrap': True}\n",
      "\n",
      "Classification Report:\n",
      "              precision    recall  f1-score   support\n",
      "\n",
      "           0       0.74      0.70      0.72       378\n",
      "           1       0.81      0.84      0.83       582\n",
      "\n",
      "    accuracy                           0.79       960\n",
      "   macro avg       0.78      0.77      0.77       960\n",
      "weighted avg       0.78      0.79      0.78       960\n",
      "\n"
     ]
    },
    {
     "data": {
      "image/png": "[encoded data removed]",
      "text/plain": [
       "<Figure size 800x600 with 2 Axes>"
      ]
     },
     "metadata": {},
     "output_type": "display_data"
    }
   ],
   "source": [
    "from sklearn.ensemble import RandomForestClassifier\n",
    "from sklearn.model_selection import RandomizedSearchCV\n",
    "from sklearn.metrics import classification_report, confusion_matrix\n",
    "import seaborn as sns\n",
    "import matplotlib.pyplot as plt\n",
    "import numpy as np\n",
    "\n",
    "# Step 1: Encode labels\n",
    "from sklearn.preprocessing import LabelEncoder\n",
    "le = LabelEncoder()\n",
    "Y_train_encoded = le.fit_transform(Y_train)\n",
    "Y_test_encoded = le.transform(Y_test)\n",
    "\n",
    "# Step 2: Define hyperparameter grid\n",
    "param_dist = {\n",
    "    'n_estimators': [100, 200, 300, 500],\n",
    "    'max_depth': [None, 10, 20, 30],\n",
    "    'min_samples_split': [2, 5, 10],\n",
    "    'min_samples_leaf': [1, 2, 4],\n",
    "    'max_features': ['sqrt', 'log2'],\n",
    "    'bootstrap': [True, False]\n",
    "}\n",
    "\n",
    "# Step 3: RandomizedSearchCV with class weighting\n",
    "rf = RandomForestClassifier(class_weight='balanced', random_state=42)\n",
    "\n",
    "random_search = RandomizedSearchCV(\n",
    "    estimator=rf,\n",
    "    param_distributions=param_dist,\n",
    "    n_iter=50,\n",
    "    cv=5,\n",
    "    scoring='f1_weighted',\n",
    "    verbose=2,\n",
    "    n_jobs=-1,\n",
    "    random_state=42\n",
    ")\n",
    "\n",
    "# Step 4: Fit model\n",
    "random_search.fit(X_train, Y_train_encoded)\n",
    "best_rf = random_search.best_estimator_\n",
    "\n",
    "# Step 5: Predict and decode\n",
    "y_pred_encoded = best_rf.predict(X_test)\n",
    "y_pred = le.inverse_transform(y_pred_encoded)\n",
    "\n",
    "# Step 6: Evaluation\n",
    "print(\"\\nBest Parameters:\", random_search.best_params_)\n",
    "print(\"\\nClassification Report:\")\n",
    "print(classification_report(Y_test, y_pred))\n",
    "\n",
    "# Step 7: Confusion Matrix\n",
    "cm = confusion_matrix(Y_test, y_pred)\n",
    "class_labels = sorted(Y_test.unique()) if hasattr(Y_test, 'unique') else sorted(set(Y_test))\n",
    "\n",
    "plt.figure(figsize=(8, 6))\n",
    "sns.heatmap(cm, annot=True, fmt='d', cmap='Blues',\n",
    "            xticklabels=class_labels, yticklabels=class_labels)\n",
    "plt.title('Random Forest Confusion Matrix')\n",
    "plt.xlabel('Predicted Labels')\n",
    "plt.ylabel('True Labels')\n",
    "plt.tight_layout()\n",
    "plt.show()\n"
   ]
  },
  {
   "cell_type": "markdown",
   "id": "c5d4d581",
   "metadata": {},
   "source": [
    "### XGBOOST for classification"
   ]
  },
  {
   "cell_type": "code",
   "execution_count": 39,
   "id": "8f7e241f",
   "metadata": {},
   "outputs": [
    {
     "name": "stdout",
     "output_type": "stream",
     "text": [
      "Fitting 5 folds for each of 50 candidates, totalling 250 fits\n"
     ]
    },
    {
     "name": "stderr",
     "output_type": "stream",
     "text": [
      "c:\\Users\\toshi\\AppData\\Local\\Programs\\Python\\Python312\\Lib\\site-packages\\xgboost\\training.py:183: UserWarning: [23:50:57] WARNING: C:\\actions-runner\\_work\\xgboost\\xgboost\\src\\learner.cc:738: \n",
      "Parameters: { \"use_label_encoder\" } are not used.\n",
      "\n",
      "  bst.update(dtrain, iteration=i, fobj=obj)\n"
     ]
    },
    {
     "name": "stdout",
     "output_type": "stream",
     "text": [
      "\n",
      "Best Parameters: {'subsample': 0.6, 'reg_lambda': 1, 'reg_alpha': 0, 'n_estimators': 300, 'max_depth': 9, 'learning_rate': 0.01, 'gamma': 0, 'colsample_bytree': 1.0}\n",
      "\n",
      "Classification Report:\n",
      "              precision    recall  f1-score   support\n",
      "\n",
      "           0       0.72      0.72      0.72       378\n",
      "           1       0.82      0.82      0.82       582\n",
      "\n",
      "    accuracy                           0.78       960\n",
      "   macro avg       0.77      0.77      0.77       960\n",
      "weighted avg       0.78      0.78      0.78       960\n",
      "\n"
     ]
    },
    {
     "data": {
      "image/png": "[encoded data removed]",
      "text/plain": [
       "<Figure size 800x600 with 2 Axes>"
      ]
     },
     "metadata": {},
     "output_type": "display_data"
    }
   ],
   "source": [
    "from xgboost import XGBClassifier\n",
    "from sklearn.model_selection import RandomizedSearchCV\n",
    "from sklearn.metrics import classification_report, confusion_matrix\n",
    "from sklearn.utils.class_weight import compute_sample_weight\n",
    "import seaborn as sns\n",
    "import matplotlib.pyplot as plt\n",
    "import numpy as np\n",
    "\n",
    "# Step 1: Encode labels\n",
    "from sklearn.preprocessing import LabelEncoder\n",
    "le = LabelEncoder()\n",
    "Y_train_encoded = le.fit_transform(Y_train)\n",
    "Y_test_encoded = le.transform(Y_test)\n",
    "\n",
    "# Step 2: Compute sample weights for class balancing\n",
    "sample_weights = compute_sample_weight(class_weight='balanced', y=Y_train_encoded)\n",
    "\n",
    "# Step 3: Define hyperparameter grid\n",
    "param_dist = {\n",
    "    'n_estimators': [100, 200, 300, 500],\n",
    "    'max_depth': [3, 5, 7, 9],\n",
    "    'learning_rate': [0.01, 0.05, 0.1, 0.2],\n",
    "    'subsample': [0.6, 0.8, 1.0],\n",
    "    'colsample_bytree': [0.6, 0.8, 1.0],\n",
    "    'gamma': [0, 1, 2, 5],\n",
    "    'reg_alpha': [0, 0.1, 0.5, 1],\n",
    "    'reg_lambda': [0.1, 0.5, 1]\n",
    "}\n",
    "\n",
    "# Step 4: Set up base model\n",
    "xgb = XGBClassifier(\n",
    "    objective='multi:softmax',\n",
    "    num_class=len(le.classes_),\n",
    "    use_label_encoder=False,\n",
    "    eval_metric='mlogloss',\n",
    "    random_state=42\n",
    ")\n",
    "\n",
    "# Step 5: Perform randomized search\n",
    "random_search = RandomizedSearchCV(\n",
    "    estimator=xgb,\n",
    "    param_distributions=param_dist,\n",
    "    n_iter=50,\n",
    "    scoring='f1_weighted',\n",
    "    cv=5,\n",
    "    verbose=2,\n",
    "    n_jobs=-1,\n",
    "    random_state=42\n",
    ")\n",
    "\n",
    "# Step 6: Fit with sample weights\n",
    "random_search.fit(X_train, Y_train_encoded, sample_weight=sample_weights)\n",
    "best_xgb = random_search.best_estimator_\n",
    "\n",
    "# Step 7: Predict and decode\n",
    "y_pred_encoded = best_xgb.predict(X_test)\n",
    "y_pred = le.inverse_transform(y_pred_encoded)\n",
    "\n",
    "# Step 8: Evaluation\n",
    "print(\"\\nBest Parameters:\", random_search.best_params_)\n",
    "print(\"\\nClassification Report:\")\n",
    "print(classification_report(Y_test, y_pred))\n",
    "\n",
    "# Step 9: Confusion Matrix\n",
    "cm = confusion_matrix(Y_test, y_pred)\n",
    "class_labels = sorted(Y_test.unique()) if hasattr(Y_test, 'unique') else sorted(set(Y_test))\n",
    "\n",
    "plt.figure(figsize=(8, 6))\n",
    "sns.heatmap(cm, annot=True, fmt='d', cmap='Blues',\n",
    "            xticklabels=class_labels, yticklabels=class_labels)\n",
    "plt.title('XGBoost Confusion Matrix')\n",
    "plt.xlabel('Predicted Labels')\n",
    "plt.ylabel('True Labels')\n",
    "plt.tight_layout()\n",
    "plt.show()\n"
   ]
  }
 ],
 "metadata": {
  "kernelspec": {
   "display_name": "Python 3",
   "language": "python",
   "name": "python3"
  },
  "language_info": {
   "codemirror_mode": {
    "name": "ipython",
    "version": 3
   },
   "file_extension": ".py",
   "mimetype": "text/x-python",
   "name": "python",
   "nbconvert_exporter": "python",
   "pygments_lexer": "ipython3",
   "version": "3.12.4"
  }
 },
 "nbformat": 4,
 "nbformat_minor": 5
}
